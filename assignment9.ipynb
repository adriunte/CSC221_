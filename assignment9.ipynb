{
  "nbformat": 4,
  "nbformat_minor": 0,
  "metadata": {
    "colab": {
      "provenance": [],
      "authorship_tag": "ABX9TyO7USCoptw/KJiH+WrxMBY4",
      "include_colab_link": true
    },
    "kernelspec": {
      "name": "python3",
      "display_name": "Python 3"
    },
    "language_info": {
      "name": "python"
    }
  },
  "cells": [
    {
      "cell_type": "markdown",
      "metadata": {
        "id": "view-in-github",
        "colab_type": "text"
      },
      "source": [
        "<a href=\"https://colab.research.google.com/github/adriunte/CSC221_acast051/blob/main/assignment9.ipynb\" target=\"_parent\"><img src=\"https://colab.research.google.com/assets/colab-badge.svg\" alt=\"Open In Colab\"/></a>"
      ]
    },
    {
      "cell_type": "code",
      "execution_count": null,
      "metadata": {
        "colab": {
          "base_uri": "https://localhost:8080/"
        },
        "id": "ZsMct0FwgLIi",
        "outputId": "aea109bb-2349-421e-cc91-eff37a1cb70b"
      },
      "outputs": [
        {
          "output_type": "stream",
          "name": "stdout",
          "text": [
            "One of my favorite books is Alice in Wonderland.\n",
            "Making a large-sized shirt with the message: 'Hello, World!'.\n",
            "Making a medium-sized shirt with the message: 'Python Lover'.\n",
            "Making a large-sized shirt with the message: 'I love Python'.\n",
            "Making a medium-sized shirt with the message: 'I love Python'.\n",
            "Making a small-sized shirt with the message: 'Python Programmer'.\n",
            "{'manufacturer': 'subaru', 'model': 'outback', 'color': 'blue', 'tow_package': True}\n"
          ]
        }
      ],
      "source": [
        "#8-2\n",
        "def favorite_book(title):\n",
        "    print(f\"One of my favorite books is {title}.\")\n",
        "\n",
        "favorite_book(\"Alice in Wonderland\")\n",
        "\n",
        "#8-3\n",
        "def make_shirt(size, message):\n",
        "    print(f\"Making a {size}-sized shirt with the message: '{message}'.\")\n",
        "\n",
        "make_shirt(\"large\", \"Hello, World!\")\n",
        "make_shirt(size=\"medium\", message=\"Python Lover\")\n",
        "\n",
        "#8-4\n",
        "def make_shirt(size=\"large\", message=\"I love Python\"):\n",
        "    print(f\"Making a {size}-sized shirt with the message: '{message}'.\")\n",
        "\n",
        "make_shirt()\n",
        "\n",
        "make_shirt(size=\"medium\")\n",
        "\n",
        "make_shirt(size=\"small\", message=\"Python Programmer\")\n",
        "\n",
        "#8-14\n",
        "def make_car(manufacturer, model, **kwargs):\n",
        "    car_info = {\n",
        "        'manufacturer': manufacturer,\n",
        "        'model': model,\n",
        "    }\n",
        "\n",
        "    car_info.update(kwargs)\n",
        "\n",
        "    return car_info\n",
        "\n",
        "car = make_car('subaru', 'outback', color='blue', tow_package=True)\n",
        "\n",
        "print(car)\n",
        "\n",
        "# Assignment 9 Question 2-4\n",
        "import math\n",
        "\n",
        "def sum_and_sort(x, y=math.pi, verbose=False):\n",
        "    result_sum = x + y\n",
        "    sorted_numbers = sorted([x, y])\n",
        "\n",
        "    if verbose:\n",
        "        print(\"Parameters:\")\n",
        "        print(f\"x: {x}\")\n",
        "        print(f\"y: {y}\")\n",
        "        print(\"Results:\")\n",
        "        print(f\"Sum: {result_sum}\")\n",
        "        print(f\"Sorted Numbers: {sorted_numbers}\")\n",
        "\n",
        "    return result_sum, sorted_numbers\n",
        "\n",
        "# Test case 1\n",
        "result1 = sum_and_sort(5, verbose=True)\n",
        "\n",
        "# Test case 2\n",
        "result2 = sum_and_sort(7, 2, verbose=True)\n",
        "\n",
        "# Test case 3\n",
        "result3 = sum_and_sort(10)\n",
        "\n",
        "# Test case 4\n",
        "result4 = sum_and_sort(3, 6)\n",
        "\n",
        "print(\"Results:\")\n",
        "print(\"Test case 1:\", result1)\n",
        "print(\"Test case 2:\", result2)\n",
        "print(\"Test case 3:\", result3)\n",
        "print(\"Test case 4:\", result4)\n"
      ]
    }
  ]
}