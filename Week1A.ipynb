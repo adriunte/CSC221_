{
  "nbformat": 4,
  "nbformat_minor": 0,
  "metadata": {
    "colab": {
      "provenance": [],
      "authorship_tag": "ABX9TyPEryDOGm+jJ/Qx/2brAySX",
      "include_colab_link": true
    },
    "kernelspec": {
      "name": "python3",
      "display_name": "Python 3"
    },
    "language_info": {
      "name": "python"
    }
  },
  "cells": [
    {
      "cell_type": "markdown",
      "metadata": {
        "id": "view-in-github",
        "colab_type": "text"
      },
      "source": [
        "<a href=\"https://colab.research.google.com/github/adriunte/CSC221_acast051/blob/main/Week1A.ipynb\" target=\"_parent\"><img src=\"https://colab.research.google.com/assets/colab-badge.svg\" alt=\"Open In Colab\"/></a>"
      ]
    },
    {
      "cell_type": "code",
      "execution_count": 4,
      "metadata": {
        "colab": {
          "base_uri": "https://localhost:8080/"
        },
        "id": "JF1C4EHB2Bhm",
        "outputId": "6967d221-28c5-4a06-cb8c-8f3ab0b74435"
      },
      "outputs": [
        {
          "output_type": "stream",
          "name": "stdout",
          "text": [
            "Guess the number, 1-10: 6\n",
            "Lol it's actually 12\n"
          ]
        }
      ],
      "source": [
        "guess = input(\"Guess the number, 1-10: \")\n",
        "if int(guess) <= 10:\n",
        "  print(\"Lol it's actually 12\")"
      ]
    }
  ]
}