{
  "nbformat": 4,
  "nbformat_minor": 0,
  "metadata": {
    "colab": {
      "provenance": [],
      "authorship_tag": "ABX9TyPZpdmy9eC9IN6uHnA8FtMg",
      "include_colab_link": true
    },
    "kernelspec": {
      "name": "python3",
      "display_name": "Python 3"
    },
    "language_info": {
      "name": "python"
    }
  },
  "cells": [
    {
      "cell_type": "markdown",
      "metadata": {
        "id": "view-in-github",
        "colab_type": "text"
      },
      "source": [
        "<a href=\"https://colab.research.google.com/github/adriunte/CSC221_acast051/blob/main/Assignment3.ipynb\" target=\"_parent\"><img src=\"https://colab.research.google.com/assets/colab-badge.svg\" alt=\"Open In Colab\"/></a>"
      ]
    },
    {
      "cell_type": "code",
      "source": [
        "#2-1\n",
        "message = \"I love Python\"\n",
        "print(message)"
      ],
      "metadata": {
        "id": "6ZxvbD_EgXdJ"
      },
      "execution_count": null,
      "outputs": []
    },
    {
      "cell_type": "code",
      "source": [
        "#2-2\n",
        "message = \"I love Python\"\n",
        "print(message)\n",
        "\n",
        "message = \"Python is cool or whatever\"\n",
        "print(message)"
      ],
      "metadata": {
        "id": "IYX5NAtHhCuG"
      },
      "execution_count": null,
      "outputs": []
    },
    {
      "cell_type": "code",
      "source": [
        "#2-3\n",
        "alex = \"Hope all is well Alex\"\n",
        "print(alex)"
      ],
      "metadata": {
        "id": "Q-NkZuWVhjnz"
      },
      "execution_count": null,
      "outputs": []
    },
    {
      "cell_type": "code",
      "source": [
        "#2-4\n",
        "alex = \"alex ALEX Alex\"\n",
        "print(alex)"
      ],
      "metadata": {
        "id": "0S9W1g0wh41m"
      },
      "execution_count": null,
      "outputs": []
    },
    {
      "cell_type": "code",
      "source": [
        "#2-5\n",
        "f_quote = \"Yala once said 'mama always told me never look down'\"\n",
        "print(f_quote)"
      ],
      "metadata": {
        "id": "e5ksT65QiJuQ"
      },
      "execution_count": null,
      "outputs": []
    },
    {
      "cell_type": "code",
      "source": [
        "#2-6\n",
        "famous_person = \"Yala\"\n",
        "message = \"'mama always told me never look down'\"\n",
        "print(famous_person + \" once said \" + message)"
      ],
      "metadata": {
        "id": "zYF92t3eiZjB"
      },
      "execution_count": null,
      "outputs": []
    },
    {
      "cell_type": "code",
      "source": [
        "#2-7\n",
        "message = \"\\tHello\\n\"\n",
        "print(message)\n",
        "print(message.strip())\n",
        "print(message.lstrip())\n",
        "print(message.rstrip())"
      ],
      "metadata": {
        "id": "mEa5DeY7izNL"
      },
      "execution_count": null,
      "outputs": []
    },
    {
      "cell_type": "code",
      "source": [
        "#2-8\n",
        "filename = 'python_notes.txt'\n",
        "print(filename.removesuffix('.txt'))"
      ],
      "metadata": {
        "colab": {
          "base_uri": "https://localhost:8080/"
        },
        "id": "PEs3syp9mI-D",
        "outputId": "d176cf9c-63db-473a-e393-1f3b96b10331"
      },
      "execution_count": 38,
      "outputs": [
        {
          "output_type": "stream",
          "name": "stdout",
          "text": [
            "python_notes\n"
          ]
        }
      ]
    },
    {
      "cell_type": "code",
      "source": [
        "#2-9\n",
        "# This program is just hitting us with some simple math lol\n",
        "print(4+4)\n",
        "print(16-8)\n",
        "print(2*4)\n",
        "print(int(3736/467))"
      ],
      "metadata": {
        "colab": {
          "base_uri": "https://localhost:8080/"
        },
        "id": "DHH8E2iEoqmW",
        "outputId": "0d77223f-dd5b-4ccb-d331-68d36d1ee55d"
      },
      "execution_count": 42,
      "outputs": [
        {
          "output_type": "stream",
          "name": "stdout",
          "text": [
            "8\n",
            "8\n",
            "8\n",
            "8\n"
          ]
        }
      ]
    },
    {
      "cell_type": "code",
      "source": [
        "#2-10\n",
        "# This program is just listing out my favorite number\n",
        "fav = 15\n",
        "print(\"My favorite number has to be\", fav)"
      ],
      "metadata": {
        "colab": {
          "base_uri": "https://localhost:8080/"
        },
        "id": "RuK-Dy04pGiy",
        "outputId": "7582a496-2335-47ff-c2e8-d4c4e931b350"
      },
      "execution_count": 48,
      "outputs": [
        {
          "output_type": "stream",
          "name": "stdout",
          "text": [
            "My favorite number has to be 15\n"
          ]
        }
      ]
    },
    {
      "cell_type": "code",
      "source": [
        "import this"
      ],
      "metadata": {
        "colab": {
          "base_uri": "https://localhost:8080/"
        },
        "id": "ssxIpo0up5RM",
        "outputId": "9a115720-42e8-4625-cfc1-9e8b0b4443ab"
      },
      "execution_count": 49,
      "outputs": [
        {
          "output_type": "stream",
          "name": "stdout",
          "text": [
            "The Zen of Python, by Tim Peters\n",
            "\n",
            "Beautiful is better than ugly.\n",
            "Explicit is better than implicit.\n",
            "Simple is better than complex.\n",
            "Complex is better than complicated.\n",
            "Flat is better than nested.\n",
            "Sparse is better than dense.\n",
            "Readability counts.\n",
            "Special cases aren't special enough to break the rules.\n",
            "Although practicality beats purity.\n",
            "Errors should never pass silently.\n",
            "Unless explicitly silenced.\n",
            "In the face of ambiguity, refuse the temptation to guess.\n",
            "There should be one-- and preferably only one --obvious way to do it.\n",
            "Although that way may not be obvious at first unless you're Dutch.\n",
            "Now is better than never.\n",
            "Although never is often better than *right* now.\n",
            "If the implementation is hard to explain, it's a bad idea.\n",
            "If the implementation is easy to explain, it may be a good idea.\n",
            "Namespaces are one honking great idea -- let's do more of those!\n"
          ]
        }
      ]
    }
  ]
}